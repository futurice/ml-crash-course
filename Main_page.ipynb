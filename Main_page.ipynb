{
 "cells": [
  {
   "cell_type": "markdown",
   "metadata": {},
   "source": [
    "# AI crash course exercises\n",
    "\n",
    "## Session 2: What is machine learning?\n",
    "\n",
    "### Tutorials\n",
    "\n",
    "* [Jupyter Notebook tutorial](exercises/indepth_course/session2/00_jupyter_and_pandas_intro/Jupyter%20Notebook%20Intro.ipynb)\n",
    "* [Pandas tutorial](exercises/indepth_course/session2/00_jupyter_and_pandas_intro/Pandas%20Tutorial.ipynb)\n",
    "\n",
    "### Regression\n",
    "\n",
    "* [Regression exercises](exercises)\n",
    "\n",
    "### Classification\n",
    "\n",
    "* [Movie genere classification](exercises/indepth_course/session2/movie_genre_classification/Movie genre classification short.ipynb)"
   ]
  }
 ],
 "metadata": {
  "kernelspec": {
   "display_name": "Python [default]",
   "language": "python",
   "name": "python3"
  },
  "language_info": {
   "codemirror_mode": {
    "name": "ipython",
    "version": 3
   },
   "file_extension": ".py",
   "mimetype": "text/x-python",
   "name": "python",
   "nbconvert_exporter": "python",
   "pygments_lexer": "ipython3",
   "version": "3.5.3"
  }
 },
 "nbformat": 4,
 "nbformat_minor": 2
}
