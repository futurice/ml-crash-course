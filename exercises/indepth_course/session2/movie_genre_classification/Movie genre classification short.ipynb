{
 "cells": [
  {
   "cell_type": "markdown",
   "metadata": {},
   "source": [
    "# Classification: Predicting a movie genre\n",
    "\n",
    "Statistical classification technicues automatically find rules that assign data instances to one of predefined categories.\n",
    "\n",
    "Example cases for classification:\n",
    "* Detecting spam messages\n",
    "* Automatically labeling news articles with a topic\n",
    "* Recognizing if an X-ray scan contains an anomaly\n",
    "* Optical character recognition\n",
    "\n",
    "Our goal here is to find way to guess movie's genre based on budget, viewer rating, and other information about the movie."
   ]
  },
  {
   "cell_type": "markdown",
   "metadata": {},
   "source": [
    "## Classification on a computer\n",
    "\n",
    "Let's load the dataset from the Internet and preprocess it."
   ]
  },
  {
   "cell_type": "code",
   "execution_count": null,
   "metadata": {
    "collapsed": true
   },
   "outputs": [],
   "source": [
    "import graphviz\n",
    "import numpy as np\n",
    "import pandas as pd\n",
    "from sklearn import tree\n",
    "from sklearn.tree import DecisionTreeClassifier\n",
    "from sklearn.ensemble import RandomForestClassifier\n",
    "from sklearn.preprocessing import OneHotEncoder, Imputer\n",
    "from sklearn.model_selection import train_test_split\n",
    "from sklearn.metrics import accuracy_score, classification_report, confusion_matrix"
   ]
  },
  {
   "cell_type": "code",
   "execution_count": null,
   "metadata": {},
   "outputs": [],
   "source": [
    "def load_data():\n",
    "    return pd.read_csv('https://github.com/hadley/ggplot2movies/blob/master/data-raw/movies.csv?raw=true')\n",
    "\n",
    "def preprocess(movies, genre='Drama'):\n",
    "    # These are the ouput variables\n",
    "    genres = ['Action', 'Animation', 'Comedy', 'Drama', 'Documentary', 'Romance', 'Short']\n",
    "\n",
    "    # All other columns are predictor variables\n",
    "    input_columns = [x for x in movies.columns.values if x != 'title' and x not in genres]\n",
    "\n",
    "    mpaa_one_hot = pd.get_dummies(movies.mpaa, prefix='mpaa', dummy_na=True)\n",
    "\n",
    "    non_mpaa_predictor_columns = ['year', 'length', 'budget', 'rating', 'votes']\n",
    "    X = pd.concat([movies[non_mpaa_predictor_columns], mpaa_one_hot], axis='columns')\n",
    "\n",
    "    imputer = Imputer(strategy='mean')\n",
    "    X_imputed = imputer.fit_transform(X)\n",
    "    X_imputed = pd.DataFrame(X_imputed, columns=X.columns)\n",
    "\n",
    "    y = pd.Series(np.where(movies[genre], genre, 'Non-' + genre))\n",
    "\n",
    "    X_train, X_test, y_train, y_test = train_test_split(X_imputed, y, test_size=0.2)\n",
    "    \n",
    "    return (X_train, X_test, y_train, y_test)\n",
    "\n",
    "def draw_decision_tree(clf, feature_names):\n",
    "    dot_data = tree.export_graphviz(clf, out_file=None, feature_names=feature_names,\n",
    "                                    class_names=clf.classes_, filled=True, rounded=True,\n",
    "                                    proportion=False)\n",
    "    return graphviz.Source(dot_data)\n",
    "\n",
    "def evaluate_classification_results(clf, X_test, y_test):\n",
    "    y_pred = clf.predict(X_test)\n",
    "\n",
    "    print('Accuracy: {:.2f}'.format(\n",
    "        accuracy_score(y_test, y_pred)))\n",
    "    print()\n",
    "\n",
    "    C = confusion_matrix(y_test, y_pred)\n",
    "    cm_row_labels = ['True ' + x for x in clf.classes_]\n",
    "    cm_column_labels = ['Predicted ' + x for x in clf.classes_]\n",
    "    print(pd.DataFrame(C, index=cm_row_labels, columns=cm_column_labels))"
   ]
  },
  {
   "cell_type": "code",
   "execution_count": null,
   "metadata": {
    "collapsed": true
   },
   "outputs": [],
   "source": [
    "raw_data = load_data()"
   ]
  },
  {
   "cell_type": "code",
   "execution_count": null,
   "metadata": {
    "collapsed": true
   },
   "outputs": [],
   "source": [
    "X_train, X_test, y_train, y_test = preprocess(raw_data)"
   ]
  },
  {
   "cell_type": "markdown",
   "metadata": {},
   "source": [
    "Here is a few sample rows from the dataset. `x_train` are the input features and `y_train` are the corresponding class labels."
   ]
  },
  {
   "cell_type": "code",
   "execution_count": null,
   "metadata": {},
   "outputs": [],
   "source": [
    "X_train.head()"
   ]
  },
  {
   "cell_type": "code",
   "execution_count": null,
   "metadata": {},
   "outputs": [],
   "source": [
    "y_train.head()"
   ]
  },
  {
   "cell_type": "markdown",
   "metadata": {},
   "source": [
    "Next, we fit a single layer decision tree classifier and print out the learned model to see how it looks like."
   ]
  },
  {
   "cell_type": "code",
   "execution_count": null,
   "metadata": {},
   "outputs": [],
   "source": [
    "clf = DecisionTreeClassifier(max_depth=1)\n",
    "clf.fit(X_train, y_train)\n",
    "\n",
    "draw_decision_tree(clf, X_train.columns.values)"
   ]
  },
  {
   "cell_type": "markdown",
   "metadata": {},
   "source": [
    "We can also compute evaluation statistics on test data:"
   ]
  },
  {
   "cell_type": "code",
   "execution_count": null,
   "metadata": {},
   "outputs": [],
   "source": [
    "evaluate_classification_results(clf, X_test, y_test)"
   ]
  },
  {
   "cell_type": "markdown",
   "metadata": {},
   "source": [
    "Because that wasn't a very good classifier, we increase the number of layer in the decision tree and try again."
   ]
  },
  {
   "cell_type": "code",
   "execution_count": null,
   "metadata": {},
   "outputs": [],
   "source": [
    "clf = DecisionTreeClassifier(max_depth=3)\n",
    "clf.fit(X_train, y_train)\n",
    "\n",
    "draw_decision_tree(clf, X_train.columns.values)"
   ]
  },
  {
   "cell_type": "code",
   "execution_count": null,
   "metadata": {},
   "outputs": [],
   "source": [
    "evaluate_classification_results(clf, X_test, y_test)"
   ]
  },
  {
   "cell_type": "code",
   "execution_count": null,
   "metadata": {
    "collapsed": true
   },
   "outputs": [],
   "source": []
  }
 ],
 "metadata": {
  "kernelspec": {
   "display_name": "Python [default]",
   "language": "python",
   "name": "python3"
  },
  "language_info": {
   "codemirror_mode": {
    "name": "ipython",
    "version": 3
   },
   "file_extension": ".py",
   "mimetype": "text/x-python",
   "name": "python",
   "nbconvert_exporter": "python",
   "pygments_lexer": "ipython3",
   "version": "3.5.3"
  }
 },
 "nbformat": 4,
 "nbformat_minor": 2
}
