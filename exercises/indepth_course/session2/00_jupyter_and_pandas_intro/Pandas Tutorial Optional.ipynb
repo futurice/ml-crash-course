{
 "cells": [
  {
   "cell_type": "markdown",
   "metadata": {
    "nbpresent": {
     "id": "fdfa7291-aa2d-410b-9604-b139d84b81b7"
    }
   },
   "source": [
    "# Pandas Tutorial Optional\n",
    "Here I will show a few of the basic data visualization and manipulation tools available with Python Pandas. \n",
    "\n",
    "Here is a Pandas [cheatsheet](https://assets.datacamp.com/blog_assets/PandasPythonForDataScience.pdf).\n",
    "\n",
    "I grabbed one year of household electricity data for demonstration purposes. **production** means solar production from a rooftop PV array during the given interval in watthours. **consumption** means the electricity consumed by the house in watthours. The goal will be to simply examine the data more closely. Sources:\n",
    "* [Production](http://www.soda-is.com/eng/services/services_radiation_free_eng.php)\n",
    "* [Consumption](http://www.smartgridaustralia.com.au/)"
   ]
  },
  {
   "cell_type": "code",
   "execution_count": null,
   "metadata": {
    "ExecuteTime": {
     "end_time": "2018-03-28T11:18:43.983620Z",
     "start_time": "2018-03-28T11:18:43.105788Z"
    },
    "nbpresent": {
     "id": "3bf83ae7-9af2-4679-b767-ac02781024e2"
    }
   },
   "outputs": [],
   "source": [
    "import pandas as pd"
   ]
  },
  {
   "cell_type": "markdown",
   "metadata": {
    "nbpresent": {
     "id": "89ca1c0d-d80d-4798-8fc5-2edc8f6eb605"
    }
   },
   "source": [
    "## Read data from csv\n",
    "The file 'data.csv' is in the same directory as this notebook, thus we don't need to specify the full path. I encourage you to open 'data.csv' from your [home base](http://localhost:8888/tree) to look at it.\n",
    "\n",
    "`index_col=0` means that the first column in the CSV will be used as the index column. \n",
    "\n",
    "`parse_dates=[0]` means that the first column in the CSV will be converted from a string to a datetime object, which is much better for manipulation."
   ]
  },
  {
   "cell_type": "code",
   "execution_count": null,
   "metadata": {
    "ExecuteTime": {
     "end_time": "2018-03-28T11:18:44.674539Z",
     "start_time": "2018-03-28T11:18:44.606912Z"
    },
    "nbpresent": {
     "id": "8789dac6-7a2e-40cd-a1a1-72f4b32fc040"
    },
    "run_control": {
     "marked": false
    }
   },
   "outputs": [],
   "source": [
    "try:\n",
    "    df = pd.read_csv('data.csv', index_col=0, parse_dates=[0])\n",
    "except FileNotFoundError:\n",
    "    df = pd.read_csv('https://raw.githubusercontent.com/icanhazcodeplz/Jupyter-Notebook-Demo/master/data.csv', index_col=0, parse_dates=[0])"
   ]
  },
  {
   "cell_type": "markdown",
   "metadata": {
    "nbpresent": {
     "id": "3be6f5b1-089c-4c07-b034-b22c8f4b0300"
    }
   },
   "source": [
    "By default, notebooks display about 30 rows from the start and 30 rows from the end of the tabulated data."
   ]
  },
  {
   "cell_type": "code",
   "execution_count": null,
   "metadata": {
    "ExecuteTime": {
     "end_time": "2018-03-28T11:18:46.698945Z",
     "start_time": "2018-03-28T11:18:46.673330Z"
    },
    "nbpresent": {
     "id": "8d426a80-7ffb-4bce-b336-1ad25f42dff6"
    }
   },
   "outputs": [],
   "source": [
    "df"
   ]
  },
  {
   "cell_type": "markdown",
   "metadata": {
    "nbpresent": {
     "id": "8f443653-f8c6-4661-96e3-bda0c9ce5140"
    }
   },
   "source": [
    "We can see that we have one year of data in 30 minute increments for the year 2013.\n",
    "\n",
    "We can use `DataFrame.head(n)` and `DataFrame.tail(n)` to display the `n` rows at the beginning or end. Note that when you use `print()` you don't get the nice table output."
   ]
  },
  {
   "cell_type": "code",
   "execution_count": null,
   "metadata": {
    "ExecuteTime": {
     "end_time": "2018-03-28T11:18:48.520210Z",
     "start_time": "2018-03-28T11:18:48.508295Z"
    },
    "nbpresent": {
     "id": "f7b5cda1-658f-4ed6-a9f2-67ed0779a7ff"
    }
   },
   "outputs": [],
   "source": [
    "print(\"Head of df\")\n",
    "print(df.head(5))\n",
    "print(\"\\nTail of df\")\n",
    "df.tail(5)"
   ]
  },
  {
   "cell_type": "markdown",
   "metadata": {
    "nbpresent": {
     "id": "f1d19c21-0c4d-493d-87bc-89a669e20109"
    }
   },
   "source": [
    "The Pandas developers are working on new 'styling' options. It's really cool!\n",
    "\n",
    "Doing `df.style` prints ALL of the rows. This will take some time though because that's a lot to print! As a compromise, I'll take the first 100 rows and print them."
   ]
  },
  {
   "cell_type": "code",
   "execution_count": null,
   "metadata": {
    "ExecuteTime": {
     "end_time": "2018-03-28T11:18:50.593150Z",
     "start_time": "2018-03-28T11:18:50.246911Z"
    },
    "nbpresent": {
     "id": "8ba5fcb5-512f-4822-ada4-b3aba1681e3d"
    }
   },
   "outputs": [],
   "source": [
    "rows_to_show = 100\n",
    "df.head(rows_to_show).style"
   ]
  },
  {
   "cell_type": "markdown",
   "metadata": {
    "nbpresent": {
     "id": "82f39b7b-0a82-4dee-ac75-aa353513a76f"
    }
   },
   "source": [
    "## Check for Duplicate Index Values\n",
    "This is a good time to check for duplicate index values since we have a DateTime index.\n",
    "\n",
    "`df.index.duplicated()` generates a True/False array, where True means that row has a duplicate index."
   ]
  },
  {
   "cell_type": "code",
   "execution_count": null,
   "metadata": {
    "ExecuteTime": {
     "end_time": "2018-03-28T11:18:52.520848Z",
     "start_time": "2018-03-28T11:18:52.511618Z"
    },
    "nbpresent": {
     "id": "53d725a5-fa6e-4c85-aab4-fa54e9d9d71b"
    }
   },
   "outputs": [],
   "source": [
    "df.index.duplicated()"
   ]
  },
  {
   "cell_type": "markdown",
   "metadata": {
    "nbpresent": {
     "id": "28624ce2-f8ca-4fa7-9537-4cd7bf4c433a"
    }
   },
   "source": [
    "Using df with brackets around a True/False array will return just the rows that are 'True'"
   ]
  },
  {
   "cell_type": "code",
   "execution_count": null,
   "metadata": {
    "ExecuteTime": {
     "end_time": "2018-03-28T11:18:54.269658Z",
     "start_time": "2018-03-28T11:18:54.253014Z"
    },
    "nbpresent": {
     "id": "36c886bf-8440-4fce-aba5-f304fbd33f87"
    }
   },
   "outputs": [],
   "source": [
    "df[df.index.duplicated()]"
   ]
  },
  {
   "cell_type": "markdown",
   "metadata": {
    "nbpresent": {
     "id": "9a86e943-3ff4-4b94-a6f0-671aaa595594"
    }
   },
   "source": [
    "Crap we have some dups! I'm too lazy to investigate why. I'll just drop them for now. \n",
    "\n",
    "`~` means \"Not\", so `df[~df.index.duplicated(keep='first')]` gives us all the rows that are not duplicates. I will reassign df to this."
   ]
  },
  {
   "cell_type": "code",
   "execution_count": null,
   "metadata": {
    "ExecuteTime": {
     "end_time": "2018-03-28T11:19:09.214018Z",
     "start_time": "2018-03-28T11:19:09.207912Z"
    },
    "nbpresent": {
     "id": "44929929-9f19-438a-b6eb-4135542e4b94"
    }
   },
   "outputs": [],
   "source": [
    "print(\"Size before dropping dubs =\", df.size)\n",
    "df = df[~df.index.duplicated(keep='first')]\n",
    "print(\"Size after dropping dubs =\", df.size)"
   ]
  },
  {
   "cell_type": "markdown",
   "metadata": {
    "nbpresent": {
     "id": "f6588589-3185-4837-809c-8f174bebb691"
    }
   },
   "source": [
    "# Prettier Tables!\n",
    "There are tons of new ways to customize your tables that are documented [here](http://pandas.pydata.org/pandas-docs/stable/style.html). I'll show you a few.\n",
    "\n",
    "### Color Gradient\n",
    "You can use a color gradient with `df.style.background_gradient()`. The list of string cmap options are shown [here](http://matplotlib.org/users/colormaps.html)."
   ]
  },
  {
   "cell_type": "code",
   "execution_count": null,
   "metadata": {
    "ExecuteTime": {
     "end_time": "2018-03-24T14:02:49.752698Z",
     "start_time": "2018-03-24T14:02:49.627179Z"
    },
    "nbpresent": {
     "id": "6204a2e0-065b-44f1-80c4-ad4750af8475"
    }
   },
   "outputs": [],
   "source": [
    "df.head(rows_to_show).style.background_gradient(cmap='Oranges') # Also try Reds, Blues, Greens, etc"
   ]
  },
  {
   "cell_type": "markdown",
   "metadata": {
    "nbpresent": {
     "id": "138c8506-607c-4065-ad2e-1b132d2b13e4"
    }
   },
   "source": [
    "### Bars"
   ]
  },
  {
   "cell_type": "code",
   "execution_count": null,
   "metadata": {
    "ExecuteTime": {
     "end_time": "2018-03-24T14:02:49.968722Z",
     "start_time": "2018-03-24T14:02:49.755445Z"
    },
    "nbpresent": {
     "id": "f1f5f42b-896d-49d1-b78d-5e46eaa158d8"
    }
   },
   "outputs": [],
   "source": [
    "df.head(rows_to_show).style.bar()"
   ]
  },
  {
   "cell_type": "markdown",
   "metadata": {
    "nbpresent": {
     "id": "c9a33a4d-a8ac-4926-be50-c9cf0a4fb5fc"
    }
   },
   "source": [
    "### Custom colors and a caption\n",
    "\n",
    "Note that putting parenthesis around the expression allows you to put bullets on new lines so you can string together methods."
   ]
  },
  {
   "cell_type": "code",
   "execution_count": null,
   "metadata": {
    "ExecuteTime": {
     "end_time": "2018-03-24T14:02:49.986033Z",
     "start_time": "2018-03-24T14:02:49.970979Z"
    },
    "nbpresent": {
     "id": "9ee56cd3-a742-4cfb-b496-8c1adc05b891"
    }
   },
   "outputs": [],
   "source": [
    "(df.head(10).style\n",
    " .set_caption(\"Hi. I'm Caption, what's your name?\")\n",
    " .set_properties(**{'background-color': 'black', 'color': 'lawngreen', 'border-color': 'red'})\n",
    ")"
   ]
  },
  {
   "cell_type": "markdown",
   "metadata": {
    "nbpresent": {
     "id": "7b1ef1e5-b194-46d9-9f6f-89ce6ca2f77e"
    }
   },
   "source": [
    "# Plot the data\n",
    "Jupyter supports two options for plotting with matplotlib, *inline* (static) and *notebook* (interactive).\n",
    "\n",
    "The `%` sign means 'magic', which refers a IPython specific command. The full list is [here](https://ipython.org/ipython-doc/3/interactive/magics.html). You can also uncomment the code cell below to see all the options."
   ]
  },
  {
   "cell_type": "code",
   "execution_count": null,
   "metadata": {
    "ExecuteTime": {
     "end_time": "2018-03-24T14:02:49.992568Z",
     "start_time": "2018-03-24T14:02:49.987839Z"
    }
   },
   "outputs": [],
   "source": [
    "# %magic # Uncomment me to see all the magic commands"
   ]
  },
  {
   "cell_type": "code",
   "execution_count": null,
   "metadata": {
    "ExecuteTime": {
     "end_time": "2018-03-24T14:02:50.252690Z",
     "start_time": "2018-03-24T14:02:49.994686Z"
    },
    "nbpresent": {
     "id": "ebe8bf9d-e1c1-4d8a-8e0f-d754e3fddcf3"
    }
   },
   "outputs": [],
   "source": [
    "%matplotlib inline\n",
    "df.plot()"
   ]
  },
  {
   "cell_type": "markdown",
   "metadata": {
    "nbpresent": {
     "id": "de431b6a-8c22-496a-9857-0b699db84f3f"
    }
   },
   "source": [
    "Poopsicle. Something looks funny with the production data, how do you produce negative energy?! Let's use an interactive plot so we can look closely.\n",
    "\n",
    "To zoom in, click the button with a box icon at the bottom of the plot, then select the area around the negative production values."
   ]
  },
  {
   "cell_type": "code",
   "execution_count": null,
   "metadata": {
    "ExecuteTime": {
     "end_time": "2018-03-24T14:03:41.624403Z",
     "start_time": "2018-03-24T14:03:41.485875Z"
    },
    "nbpresent": {
     "id": "c8c5ce84-57b6-43e3-9ab5-2789be736227"
    }
   },
   "outputs": [],
   "source": [
    "# sometimes I have to run this cell twice to get it to work. Jupyter ain't perfect :/\n",
    "%matplotlib notebook\n",
    "df.plot(figsize=(8,5)) # figsize=(width, height) measured in inches"
   ]
  },
  {
   "cell_type": "markdown",
   "metadata": {
    "nbpresent": {
     "id": "79bd956d-59bb-4390-8d48-0d6c6b46d678"
    }
   },
   "source": [
    "After zooming in, it looks like the weirdness only happens at some points of the day. August 27th is one of the bad days. To examine one day individually, use `df.loc[<yyyy-mm-dd>]`."
   ]
  },
  {
   "cell_type": "code",
   "execution_count": null,
   "metadata": {
    "ExecuteTime": {
     "end_time": "2018-03-24T14:02:50.361788Z",
     "start_time": "2018-03-24T14:02:50.340984Z"
    }
   },
   "outputs": [],
   "source": [
    "df.loc['2013-08-27']"
   ]
  },
  {
   "cell_type": "markdown",
   "metadata": {},
   "source": [
    "Looks like some missing data! -999 is a common value to use for a missing data point. Let's look at where production = -999. `df.describe()` prints column level statistics."
   ]
  },
  {
   "cell_type": "code",
   "execution_count": null,
   "metadata": {
    "ExecuteTime": {
     "end_time": "2018-03-24T14:02:50.381094Z",
     "start_time": "2018-03-24T14:02:50.364014Z"
    },
    "nbpresent": {
     "id": "a24351c1-0998-4d3e-abb3-94c9e539741a"
    }
   },
   "outputs": [],
   "source": [
    "df[df['production'] == -999].describe()"
   ]
  },
  {
   "cell_type": "markdown",
   "metadata": {
    "nbpresent": {
     "id": "c359e1b2-fe64-4211-9dd5-abf9daa75666"
    }
   },
   "source": [
    "Ruhroh. 154 missing data points! And now the eternal question of how to handle missing data. Set to NaN? Set to 0? Throw it out completely? I'll set to 0 for now. Note that I had to use the `.loc` method when changing cells. Otherwise you get a warning. See http://pandas.pydata.org/pandas-docs/stable/indexing.html for all the ways to access and set values."
   ]
  },
  {
   "cell_type": "code",
   "execution_count": null,
   "metadata": {
    "ExecuteTime": {
     "end_time": "2018-03-24T14:02:50.446790Z",
     "start_time": "2018-03-24T14:02:50.383087Z"
    },
    "nbpresent": {
     "id": "4138b569-bbe8-4fbe-80b3-859b485535cf"
    }
   },
   "outputs": [],
   "source": [
    "df.loc[df.production == -999, 'production'] = 0\n",
    "df.describe()"
   ]
  },
  {
   "cell_type": "markdown",
   "metadata": {
    "nbpresent": {
     "id": "9c8efd7a-8016-43b7-935a-885937ed5a07"
    }
   },
   "source": [
    "Be careful! This edits the variable `df` in the kernel, so all cells now use this updated `df`. Rerun the plotting cells above to see the difference."
   ]
  },
  {
   "cell_type": "markdown",
   "metadata": {},
   "source": [
    "## A few more helpful tips\n",
    "I got these tips from a [datacamp tutorial](https://www.datacamp.com/community/tutorials/tutorial-jupyter-notebook#gs.MfWKsbI)\n",
    "\n",
    " 1. Put a ! in front of a line of code to run a shell command.\n",
    " 1. Use `%who` to see all of the variables in your kernel."
   ]
  },
  {
   "cell_type": "code",
   "execution_count": null,
   "metadata": {
    "ExecuteTime": {
     "end_time": "2018-03-24T14:02:50.706900Z",
     "start_time": "2018-03-24T14:02:50.449626Z"
    }
   },
   "outputs": [],
   "source": [
    "!echo \"I'm a shell command!\\n\"\n",
    "!ls"
   ]
  },
  {
   "cell_type": "code",
   "execution_count": null,
   "metadata": {
    "ExecuteTime": {
     "end_time": "2018-03-24T14:02:50.715076Z",
     "start_time": "2018-03-24T14:02:50.710046Z"
    }
   },
   "outputs": [],
   "source": [
    "%who"
   ]
  }
 ],
 "metadata": {
  "anaconda-cloud": {},
  "hide_input": false,
  "kernelspec": {
   "display_name": "Python 3",
   "language": "python",
   "name": "python3"
  },
  "language_info": {
   "codemirror_mode": {
    "name": "ipython",
    "version": 3
   },
   "file_extension": ".py",
   "mimetype": "text/x-python",
   "name": "python",
   "nbconvert_exporter": "python",
   "pygments_lexer": "ipython3",
   "version": "3.6.3"
  },
  "nbpresent": {
   "slides": {
    "03bf684f-181f-47f7-ab1b-69b639be8f16": {
     "id": "03bf684f-181f-47f7-ab1b-69b639be8f16",
     "prev": "3dd8ca16-20f7-48a4-92ca-d860deaebc94",
     "regions": {
      "09ceab83-cef3-404b-8573-6b9e131a325f": {
       "attrs": {
        "height": 0.8,
        "width": 0.2,
        "x": 0.4,
        "y": 0.1
       },
       "content": {
        "cell": "f7b5cda1-658f-4ed6-a9f2-67ed0779a7ff",
        "part": "source"
       },
       "id": "09ceab83-cef3-404b-8573-6b9e131a325f"
      },
      "52cff6c3-f1a4-48ac-b826-c4b94308c552": {
       "attrs": {
        "height": 0.8,
        "width": 0.2,
        "x": 0.1,
        "y": 0.1
       },
       "content": {
        "cell": "8f443653-f8c6-4661-96e3-bda0c9ce5140",
        "part": "source"
       },
       "id": "52cff6c3-f1a4-48ac-b826-c4b94308c552"
      },
      "d9775fd6-93f7-4a35-be4b-ecb0123fd9d3": {
       "attrs": {
        "height": 0.8,
        "width": 0.24481236203090515,
        "x": 0.655187637969095,
        "y": 0.1
       },
       "content": {
        "cell": "f7b5cda1-658f-4ed6-a9f2-67ed0779a7ff",
        "part": "outputs"
       },
       "id": "d9775fd6-93f7-4a35-be4b-ecb0123fd9d3"
      }
     }
    },
    "3dd8ca16-20f7-48a4-92ca-d860deaebc94": {
     "id": "3dd8ca16-20f7-48a4-92ca-d860deaebc94",
     "prev": "4734e085-bb9b-4048-961c-8c381017ee3c",
     "regions": {
      "6b1aa4e6-0d69-4fc6-8840-072fbadd050c": {
       "attrs": {
        "height": 0.8,
        "width": 0.2,
        "x": 0.1,
        "y": 0.1
       },
       "content": {
        "cell": "3be6f5b1-089c-4c07-b034-b22c8f4b0300",
        "part": "source"
       },
       "id": "6b1aa4e6-0d69-4fc6-8840-072fbadd050c"
      },
      "b4117497-8365-4bd8-bb8a-0a6002b81fa4": {
       "attrs": {
        "height": 0.8,
        "width": 0.5984547461368654,
        "x": 0.35364238410596033,
        "y": 0.1
       },
       "content": {
        "cell": "8d426a80-7ffb-4bce-b336-1ad25f42dff6",
        "part": "outputs"
       },
       "id": "b4117497-8365-4bd8-bb8a-0a6002b81fa4"
      }
     }
    },
    "4734e085-bb9b-4048-961c-8c381017ee3c": {
     "id": "4734e085-bb9b-4048-961c-8c381017ee3c",
     "prev": "5cf3063a-a588-46cd-afd8-2bcd906982b7",
     "regions": {
      "7a88007e-dab7-4c34-b6ad-691f6a681245": {
       "attrs": {
        "height": 0.6,
        "width": 0.8,
        "x": 0.1,
        "y": 0.1
       },
       "content": {
        "cell": "89ca1c0d-d80d-4798-8fc5-2edc8f6eb605",
        "part": "source"
       },
       "id": "7a88007e-dab7-4c34-b6ad-691f6a681245"
      },
      "d0a80c0a-bc82-4f90-bf57-96ac23088e18": {
       "attrs": {
        "height": 0.2,
        "width": 0.4,
        "x": 0.1,
        "y": 0.7
       },
       "content": {
        "cell": "8789dac6-7a2e-40cd-a1a1-72f4b32fc040",
        "part": "source"
       },
       "id": "d0a80c0a-bc82-4f90-bf57-96ac23088e18"
      }
     }
    },
    "5cf3063a-a588-46cd-afd8-2bcd906982b7": {
     "id": "5cf3063a-a588-46cd-afd8-2bcd906982b7",
     "prev": null,
     "regions": {
      "519ac885-df38-46b3-b837-7ea0311bd339": {
       "attrs": {
        "height": 1,
        "width": 1,
        "x": 0,
        "y": 0
       },
       "content": {
        "cell": "fdfa7291-aa2d-410b-9604-b139d84b81b7",
        "part": "source"
       },
       "id": "519ac885-df38-46b3-b837-7ea0311bd339"
      }
     }
    }
   },
   "themes": {
    "default": "49ebb434-1d7b-4888-a80d-ebdbfc0a2aa8",
    "theme": {
     "49ebb434-1d7b-4888-a80d-ebdbfc0a2aa8": {
      "id": "49ebb434-1d7b-4888-a80d-ebdbfc0a2aa8",
      "palette": {
       "19cc588f-0593-49c9-9f4b-e4d7cc113b1c": {
        "id": "19cc588f-0593-49c9-9f4b-e4d7cc113b1c",
        "rgb": [
         252,
         252,
         252
        ]
       },
       "31af15d2-7e15-44c5-ab5e-e04b16a89eff": {
        "id": "31af15d2-7e15-44c5-ab5e-e04b16a89eff",
        "rgb": [
         68,
         68,
         68
        ]
       },
       "50f92c45-a630-455b-aec3-788680ec7410": {
        "id": "50f92c45-a630-455b-aec3-788680ec7410",
        "rgb": [
         155,
         177,
         192
        ]
       },
       "c5cc3653-2ee1-402a-aba2-7caae1da4f6c": {
        "id": "c5cc3653-2ee1-402a-aba2-7caae1da4f6c",
        "rgb": [
         43,
         126,
         184
        ]
       },
       "efa7f048-9acb-414c-8b04-a26811511a21": {
        "id": "efa7f048-9acb-414c-8b04-a26811511a21",
        "rgb": [
         25.118061674008803,
         73.60176211453744,
         107.4819383259912
        ]
       }
      },
      "rules": {
       "blockquote": {
        "color": "50f92c45-a630-455b-aec3-788680ec7410"
       },
       "code": {
        "font-family": "Anonymous Pro"
       },
       "h1": {
        "color": "c5cc3653-2ee1-402a-aba2-7caae1da4f6c",
        "font-family": "Lato",
        "font-size": 8
       },
       "h2": {
        "color": "c5cc3653-2ee1-402a-aba2-7caae1da4f6c",
        "font-family": "Lato",
        "font-size": 6
       },
       "h3": {
        "color": "50f92c45-a630-455b-aec3-788680ec7410",
        "font-family": "Lato",
        "font-size": 5.5
       },
       "h4": {
        "color": "c5cc3653-2ee1-402a-aba2-7caae1da4f6c",
        "font-family": "Lato",
        "font-size": 5
       },
       "h5": {
        "font-family": "Lato"
       },
       "h6": {
        "font-family": "Lato"
       },
       "h7": {
        "font-family": "Lato"
       },
       "pre": {
        "font-family": "Anonymous Pro",
        "font-size": 4
       }
      },
      "text-base": {
       "font-family": "Merriweather",
       "font-size": 4
      }
     }
    }
   }
  }
 },
 "nbformat": 4,
 "nbformat_minor": 1
}
