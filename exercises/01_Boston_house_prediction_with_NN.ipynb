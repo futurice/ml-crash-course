{
 "cells": [
  {
   "cell_type": "markdown",
   "metadata": {},
   "source": [
    "# Exercise 1: Boston house price predicion\n",
    "\n",
    "Goal of the exercise: Get the basics of keras and linear recressions\n",
    "\n",
    "Steps:\n",
    "1. Load data\n",
    "2. Visualise data\n",
    "4. Define the model\n",
    "5. Train the model\n",
    "6. Evaluate"
   ]
  },
  {
   "cell_type": "markdown",
   "metadata": {},
   "source": [
    "## Load Open Source Machine Learning Libraries"
   ]
  },
  {
   "cell_type": "code",
   "execution_count": null,
   "metadata": {},
   "outputs": [],
   "source": [
    "from sklearn.model_selection import train_test_split\n",
    "from sklearn.preprocessing import MinMaxScaler\n",
    "import numpy as np\n",
    "import pylab\n",
    "pylab.rcParams['figure.figsize'] = [12.0, 8.0]\n",
    "%matplotlib inline"
   ]
  },
  {
   "cell_type": "markdown",
   "metadata": {},
   "source": [
    "## Load Keras, one of the most popular Open Source Deep Learning library"
   ]
  },
  {
   "cell_type": "code",
   "execution_count": null,
   "metadata": {},
   "outputs": [],
   "source": [
    "# Keras is an easy to use Deep Learning library for Python\n",
    "import keras\n",
    "\n",
    "from keras import backend as K\n",
    "\n",
    "# Load Sequential model architecture\n",
    "from keras.models import Sequential\n",
    "\n",
    "# Load Dense and Dropout layers ?\n",
    "from keras.layers import Dense, Dropout\n",
    "\n",
    "# Load RMSprop optimizer to minimize cost to train the network\n",
    "from keras.optimizers import RMSprop"
   ]
  },
  {
   "cell_type": "markdown",
   "metadata": {},
   "source": [
    "## Loading data"
   ]
  },
  {
   "cell_type": "code",
   "execution_count": null,
   "metadata": {},
   "outputs": [],
   "source": [
    "from sklearn.datasets import load_boston\n",
    "\n",
    "# Load data\n",
    "boston = load_boston()\n",
    "\n",
    "# Choose AVG number of rooms as feature\n",
    "X = boston.data[:, boston.feature_names.tolist().index('RM')]\n",
    "\n",
    "# Target / desired output\n",
    "y = boston.target"
   ]
  },
  {
   "cell_type": "markdown",
   "metadata": {},
   "source": [
    "## Visualising data\n",
    "It is a good idea to visualise the data before running any machine learning algorithms to see if the data makes any sense and if it is possible to learn from the data."
   ]
  },
  {
   "cell_type": "code",
   "execution_count": null,
   "metadata": {
    "scrolled": false
   },
   "outputs": [],
   "source": [
    "pylab.scatter(X, y)\n",
    "pylab.grid()\n",
    "pylab.xlabel('Average number of rooms')\n",
    "pylab.ylabel('Average price of the house')"
   ]
  },
  {
   "cell_type": "markdown",
   "metadata": {},
   "source": [
    "## Define the model"
   ]
  },
  {
   "cell_type": "code",
   "execution_count": null,
   "metadata": {},
   "outputs": [],
   "source": [
    "# It is a good idea to clear the session (remove graphs etc from GPU/CPU) before defining a new model\n",
    "K.clear_session()\n",
    "\n",
    "# Init new feedforward network model from keras\n",
    "model = Sequential()\n",
    "\n",
    "# In linear regression we don't have hidden layers. Just the output which is connected to input.\n",
    "model.add(Dense(1, activation='linear', input_shape=(1,)))\n",
    "\n",
    "model.summary()"
   ]
  },
  {
   "cell_type": "code",
   "execution_count": null,
   "metadata": {},
   "outputs": [],
   "source": [
    "model.compile(loss='mean_squared_error',\n",
    "              optimizer=RMSprop())"
   ]
  },
  {
   "cell_type": "markdown",
   "metadata": {},
   "source": [
    "## Train the model"
   ]
  },
  {
   "cell_type": "markdown",
   "metadata": {},
   "source": [
    "### Split data into training and testing sets\n",
    "In order to be able to evaluate the model, we need to split the data into training and testing."
   ]
  },
  {
   "cell_type": "code",
   "execution_count": null,
   "metadata": {},
   "outputs": [],
   "source": [
    "x_train, x_test, y_train, y_test = train_test_split(X, y, test_size=0.2)"
   ]
  },
  {
   "cell_type": "markdown",
   "metadata": {},
   "source": [
    "### Train the model"
   ]
  },
  {
   "cell_type": "code",
   "execution_count": null,
   "metadata": {},
   "outputs": [],
   "source": [
    "history = model.fit(x_train, y_train,\n",
    "                    batch_size=32,\n",
    "                    epochs=100,\n",
    "                    verbose=0)"
   ]
  },
  {
   "cell_type": "code",
   "execution_count": null,
   "metadata": {},
   "outputs": [],
   "source": [
    "xs = np.linspace(X.min(), X.max(),100)"
   ]
  },
  {
   "cell_type": "code",
   "execution_count": null,
   "metadata": {
    "scrolled": true
   },
   "outputs": [],
   "source": [
    "pylab.figure()\n",
    "pylab.plot(xs, model.predict(xs))\n",
    "pylab.plot(X, y, '.')"
   ]
  },
  {
   "cell_type": "markdown",
   "metadata": {},
   "source": [
    "## Evaluate the model"
   ]
  },
  {
   "cell_type": "code",
   "execution_count": null,
   "metadata": {},
   "outputs": [],
   "source": [
    "train_error = model.evaluate(x_train, y_train, verbose=0)\n",
    "test_error = model.evaluate(x_test, y_test, verbose=0)\n",
    "print('Train error=%f test error=%f' % (train_error, test_error))"
   ]
  },
  {
   "cell_type": "code",
   "execution_count": null,
   "metadata": {},
   "outputs": [],
   "source": []
  }
 ],
 "metadata": {
  "kernelspec": {
   "display_name": "Python 3",
   "language": "python",
   "name": "python3"
  },
  "language_info": {
   "codemirror_mode": {
    "name": "ipython",
    "version": 3
   },
   "file_extension": ".py",
   "mimetype": "text/x-python",
   "name": "python",
   "nbconvert_exporter": "python",
   "pygments_lexer": "ipython3",
   "version": "3.6.1"
  }
 },
 "nbformat": 4,
 "nbformat_minor": 2
}
